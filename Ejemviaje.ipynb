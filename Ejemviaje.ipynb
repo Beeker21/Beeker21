{
 "cells": [
  {
   "cell_type": "code",
   "execution_count": 1,
   "id": "696294d3-c9d4-4e1a-aa5f-d64c321d44d4",
   "metadata": {},
   "outputs": [
    {
     "name": "stdin",
     "output_type": "stream",
     "text": [
      "Dame el precio por litro de gasolina:  13.00\n",
      "Dame el rendimiento del coche:  22.22\n"
     ]
    },
    {
     "name": "stdout",
     "output_type": "stream",
     "text": [
      "El recorrido será de 1025.54 km, en 20 horas y 30 minutos\n"
     ]
    }
   ],
   "source": [
    "dinero=600.00\n",
    "v=50.00\n",
    "\n",
    "while True:\n",
    "    _precio=input(\"Dame el precio por litro de gasolina: \")\n",
    "    if (_precio==''):\n",
    "        print(\"Entrada incorrecta. El precio no puede omitirse. Intenta de nuevo.\")\n",
    "        continue\n",
    "    try:\n",
    "        precio=float(_precio)\n",
    "    except:\n",
    "        print(\"Entrada incorrecta. El precio debe ser un número. Intenta de nuevo.\")\n",
    "        continue\n",
    "    # Si llego aquí, ya tengo un valor numérico en precio.\n",
    "    if (not precio>0):\n",
    "        print(\"Entrada incorrecta. El precio debe ser mayor a cero. Intenta de nuevo.\")\n",
    "        continue\n",
    "    # Si todo salió bien, se sale del while\n",
    "    break\n",
    "litros=dinero/precio\n",
    "_rendimiento=input(\"Dame el rendimiento del coche: \")\n",
    "rendimiento=float(_rendimiento)\n",
    "d=rendimiento*litros\n",
    "t=d/v\n",
    "hh=int(t)\n",
    "mm=int((t-hh)*60)\n",
    "print(f\"El recorrido será de {d:.2f} km, en {hh} horas y {mm} minutos\")"
   ]
  },
  {
   "cell_type": "code",
   "execution_count": null,
   "id": "51767eab-9ec3-45b6-a454-912adf1b60f7",
   "metadata": {},
   "outputs": [],
   "source": []
  }
 ],
 "metadata": {
  "kernelspec": {
   "display_name": "Python 3 (ipykernel)",
   "language": "python",
   "name": "python3"
  },
  "language_info": {
   "codemirror_mode": {
    "name": "ipython",
    "version": 3
   },
   "file_extension": ".py",
   "mimetype": "text/x-python",
   "name": "python",
   "nbconvert_exporter": "python",
   "pygments_lexer": "ipython3",
   "version": "3.11.3"
  }
 },
 "nbformat": 4,
 "nbformat_minor": 5
}
