{
 "cells": [
  {
   "cell_type": "code",
   "execution_count": 2,
   "id": "cd45c1fd-fd1a-43c7-a917-47363689ad32",
   "metadata": {},
   "outputs": [
    {
     "name": "stdout",
     "output_type": "stream",
     "text": [
      "<class 'int'>\n",
      "<class 'str'>\n",
      "<class 'float'>\n",
      "Matrícula:  1919192\n",
      "Nombre completo:  SAMANTHA MONSERRAT OVALLE LOPEZ\n",
      "Estatura:  1.7\n"
     ]
    }
   ],
   "source": [
    "matricula=1919192\n",
    "nombre_completo=\"SAMANTHA MONSERRAT OVALLE LOPEZ\"\n",
    "estatura=1.70\n",
    "print(type(matricula))\n",
    "print(type(nombre_completo))\n",
    "print(type(estatura))\n",
    "print(\"Matrícula: \", matricula)\n",
    "print(\"Nombre completo: \", nombre_completo)\n",
    "print(\"Estatura: \", estatura)"
   ]
  },
  {
   "cell_type": "code",
   "execution_count": null,
   "id": "42ca9532-d2df-4f92-9871-56b62c166fa2",
   "metadata": {},
   "outputs": [],
   "source": []
  }
 ],
 "metadata": {
  "kernelspec": {
   "display_name": "Python 3 (ipykernel)",
   "language": "python",
   "name": "python3"
  },
  "language_info": {
   "codemirror_mode": {
    "name": "ipython",
    "version": 3
   },
   "file_extension": ".py",
   "mimetype": "text/x-python",
   "name": "python",
   "nbconvert_exporter": "python",
   "pygments_lexer": "ipython3",
   "version": "3.11.3"
  }
 },
 "nbformat": 4,
 "nbformat_minor": 5
}
