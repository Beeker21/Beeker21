{
 "cells": [
  {
   "cell_type": "code",
   "execution_count": 1,
   "id": "5ff638a6-8de9-4747-bfc1-7ea28dee84ce",
   "metadata": {},
   "outputs": [
    {
     "name": "stdin",
     "output_type": "stream",
     "text": [
      "Dame la temperatura del paciente:  344\n"
     ]
    },
    {
     "name": "stdout",
     "output_type": "stream",
     "text": [
      "Error: Error: El dato debe tener el formato X.X.\n",
      "Detalle: Por favor, ingresa un número válido en el rango de 0.0 a 150.0.\n"
     ]
    },
    {
     "name": "stdin",
     "output_type": "stream",
     "text": [
      "Dame la temperatura del paciente:  34\n"
     ]
    },
    {
     "name": "stdout",
     "output_type": "stream",
     "text": [
      "Error: Error: El dato debe tener el formato X.X.\n",
      "Detalle: Por favor, ingresa un número válido en el rango de 0.0 a 150.0.\n"
     ]
    },
    {
     "name": "stdin",
     "output_type": "stream",
     "text": [
      "Dame la temperatura del paciente:  34.00\n",
      "¿Desea capturar otra lectura? (Si/No):  n\n"
     ]
    },
    {
     "name": "stdout",
     "output_type": "stream",
     "text": [
      "\n",
      "Lecturas capturadas:\n",
      "Farenheit: 34.00\n",
      "Centigrados: 1.11\n",
      "Estado: Hipotermia\n",
      "\n"
     ]
    }
   ],
   "source": [
    "import re\n",
    "\n",
    "class Lectura:\n",
    "    def __init__(self, grados_f):\n",
    "        self.grados_f=grados_f\n",
    "\n",
    "    @property\n",
    "    def grados_c(self):\n",
    "        return (self.grados_f-32)/1.8\n",
    "\n",
    "    @property\n",
    "    def estado(self):\n",
    "        if self.grados_f < 35:\n",
    "            return \"Hipotermia\"\n",
    "        elif 35 <= self.grados_f < 37:\n",
    "            return \"Normal\"\n",
    "        elif 37 <= self.grados_f < 38:\n",
    "            return \"Febrícula\"\n",
    "        elif 38 <= self.grados_f < 41:\n",
    "            return \"Fiebre\"\n",
    "        else:\n",
    "            return \"Hiperpirexia\"\n",
    "\n",
    "    def mostrar_lectura(self):\n",
    "        print(f\"Farenheit: {self.grados_f:.2f}\")\n",
    "        print(f\"Centigrados: {self.grados_c:.2f}\")\n",
    "        print(f\"Estado: {self.estado}\\n\")\n",
    "\n",
    "def capturar_f(prompt=\"Dame un número flotante:\"):\n",
    "    while True:\n",
    "        try:\n",
    "            dato=input(prompt)\n",
    "            if not dato:\n",
    "                raise ValueError(\"Error: El dato no puede estar vacío.\")\n",
    "            if not re.match(r'^\\d{1,3}\\.\\d{1,3}$', dato):\n",
    "                raise ValueError(\"Error: El dato debe tener el formato X.X.\")\n",
    "            valor = float(dato)\n",
    "            if valor < 0.0 or valor > 150.0:\n",
    "                raise ValueError(\"Error: El valor debe estar entre 0.0 y 150.0.\")\n",
    "            return valor\n",
    "        except ValueError as e:\n",
    "            print(\"Error:\", e)\n",
    "            print(\"Detalle: Por favor, ingresa un número válido en el rango de 0.0 a 150.0.\")\n",
    "\n",
    "lecturas=[]\n",
    "\n",
    "while True:\n",
    "    grados_f=capturar_f(\"Dame la temperatura del paciente: \")\n",
    "    lectura=Lectura(grados_f)\n",
    "    lecturas.append(lectura)\n",
    "\n",
    "    respuesta = input(\"¿Desea capturar otra lectura? (Si/No): \")\n",
    "    if respuesta.lower() !='si':\n",
    "        break\n",
    "\n",
    "print(\"\\nLecturas capturadas:\")\n",
    "for lectura in lecturas:\n",
    "    lectura.mostrar_lectura()"
   ]
  },
  {
   "cell_type": "code",
   "execution_count": null,
   "id": "4cf0359a-4a50-4fee-8ac3-b6596a3906a0",
   "metadata": {},
   "outputs": [],
   "source": []
  }
 ],
 "metadata": {
  "kernelspec": {
   "display_name": "Python 3 (ipykernel)",
   "language": "python",
   "name": "python3"
  },
  "language_info": {
   "codemirror_mode": {
    "name": "ipython",
    "version": 3
   },
   "file_extension": ".py",
   "mimetype": "text/x-python",
   "name": "python",
   "nbconvert_exporter": "python",
   "pygments_lexer": "ipython3",
   "version": "3.11.3"
  }
 },
 "nbformat": 4,
 "nbformat_minor": 5
}
